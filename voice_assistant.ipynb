{
 "cells": [
  {
   "cell_type": "code",
   "execution_count": 1,
   "metadata": {
    "collapsed": true
   },
   "outputs": [
    {
     "name": "stdout",
     "output_type": "stream",
     "text": [
      "Requirement already satisfied: speechrecognition in c:\\users\\hp\\anaconda3\\lib\\site-packages (3.10.0)\n",
      "Requirement already satisfied: requests>=2.26.0 in c:\\users\\hp\\anaconda3\\lib\\site-packages (from speechrecognition) (2.30.0)\n",
      "Requirement already satisfied: urllib3<3,>=1.21.1 in c:\\users\\hp\\anaconda3\\lib\\site-packages (from requests>=2.26.0->speechrecognition) (1.25.9)\n",
      "Requirement already satisfied: idna<4,>=2.5 in c:\\users\\hp\\anaconda3\\lib\\site-packages (from requests>=2.26.0->speechrecognition) (2.10)\n",
      "Requirement already satisfied: charset-normalizer<4,>=2 in c:\\users\\hp\\anaconda3\\lib\\site-packages (from requests>=2.26.0->speechrecognition) (3.1.0)\n",
      "Requirement already satisfied: certifi>=2017.4.17 in c:\\users\\hp\\anaconda3\\lib\\site-packages (from requests>=2.26.0->speechrecognition) (2020.6.20)\n",
      "Note: you may need to restart the kernel to use updated packages.\n"
     ]
    }
   ],
   "source": [
    "pip install speechrecognition"
   ]
  },
  {
   "cell_type": "code",
   "execution_count": 2,
   "metadata": {},
   "outputs": [
    {
     "name": "stdout",
     "output_type": "stream",
     "text": [
      "Requirement already satisfied: pyttsx3 in c:\\users\\hp\\anaconda3\\lib\\site-packages (2.90)\n",
      "Requirement already satisfied: pywin32; platform_system == \"Windows\" in c:\\users\\hp\\anaconda3\\lib\\site-packages (from pyttsx3) (227)\n",
      "Requirement already satisfied: comtypes; platform_system == \"Windows\" in c:\\users\\hp\\anaconda3\\lib\\site-packages (from pyttsx3) (1.1.7)\n",
      "Requirement already satisfied: pypiwin32; platform_system == \"Windows\" in c:\\users\\hp\\anaconda3\\lib\\site-packages (from pyttsx3) (223)\n",
      "Note: you may need to restart the kernel to use updated packages.\n"
     ]
    }
   ],
   "source": [
    "pip install pyttsx3"
   ]
  },
  {
   "cell_type": "code",
   "execution_count": 3,
   "metadata": {},
   "outputs": [
    {
     "name": "stdout",
     "output_type": "stream",
     "text": [
      "Requirement already satisfied: pyaudio in c:\\users\\hp\\anaconda3\\lib\\site-packages (0.2.13)\n",
      "Note: you may need to restart the kernel to use updated packages.\n"
     ]
    }
   ],
   "source": [
    "pip install pyaudio"
   ]
  },
  {
   "cell_type": "code",
   "execution_count": 13,
   "metadata": {},
   "outputs": [
    {
     "name": "stdout",
     "output_type": "stream",
     "text": [
      "Requirement already satisfied: wikipedia in c:\\users\\hp\\anaconda3\\lib\\site-packages (1.4.0)\n",
      "Requirement already satisfied: beautifulsoup4 in c:\\users\\hp\\anaconda3\\lib\\site-packages (from wikipedia) (4.9.1)\n",
      "Requirement already satisfied: requests<3.0.0,>=2.0.0 in c:\\users\\hp\\anaconda3\\lib\\site-packages (from wikipedia) (2.30.0)\n",
      "Requirement already satisfied: soupsieve>1.2 in c:\\users\\hp\\anaconda3\\lib\\site-packages (from beautifulsoup4->wikipedia) (2.0.1)\n",
      "Requirement already satisfied: idna<4,>=2.5 in c:\\users\\hp\\anaconda3\\lib\\site-packages (from requests<3.0.0,>=2.0.0->wikipedia) (2.10)\n",
      "Requirement already satisfied: urllib3<3,>=1.21.1 in c:\\users\\hp\\anaconda3\\lib\\site-packages (from requests<3.0.0,>=2.0.0->wikipedia) (1.25.9)\n",
      "Requirement already satisfied: charset-normalizer<4,>=2 in c:\\users\\hp\\anaconda3\\lib\\site-packages (from requests<3.0.0,>=2.0.0->wikipedia) (3.1.0)\n",
      "Requirement already satisfied: certifi>=2017.4.17 in c:\\users\\hp\\anaconda3\\lib\\site-packages (from requests<3.0.0,>=2.0.0->wikipedia) (2020.6.20)\n",
      "Note: you may need to restart the kernel to use updated packages.\n"
     ]
    }
   ],
   "source": [
    "pip install wikipedia"
   ]
  },
  {
   "cell_type": "code",
   "execution_count": 10,
   "metadata": {},
   "outputs": [
    {
     "name": "stdout",
     "output_type": "stream",
     "text": [
      "Collecting pyjokes\n",
      "  Downloading pyjokes-0.6.0-py2.py3-none-any.whl (26 kB)\n",
      "Installing collected packages: pyjokes\n",
      "Successfully installed pyjokes-0.6.0\n",
      "Note: you may need to restart the kernel to use updated packages.\n"
     ]
    }
   ],
   "source": [
    "pip install pyjokes"
   ]
  },
  {
   "cell_type": "code",
   "execution_count": 10,
   "metadata": {},
   "outputs": [
    {
     "name": "stdout",
     "output_type": "stream",
     "text": [
      "Collecting googlemapsNote: you may need to restart the kernel to use updated packages.\n",
      "\n",
      "  Downloading googlemaps-4.10.0.tar.gz (33 kB)\n",
      "Requirement already satisfied: requests<3.0,>=2.20.0 in c:\\users\\hp\\anaconda3\\lib\\site-packages (from googlemaps) (2.30.0)\n",
      "Requirement already satisfied: charset-normalizer<4,>=2 in c:\\users\\hp\\anaconda3\\lib\\site-packages (from requests<3.0,>=2.20.0->googlemaps) (3.1.0)\n",
      "Requirement already satisfied: idna<4,>=2.5 in c:\\users\\hp\\anaconda3\\lib\\site-packages (from requests<3.0,>=2.20.0->googlemaps) (2.10)\n",
      "Requirement already satisfied: urllib3<3,>=1.21.1 in c:\\users\\hp\\anaconda3\\lib\\site-packages (from requests<3.0,>=2.20.0->googlemaps) (1.25.9)\n",
      "Requirement already satisfied: certifi>=2017.4.17 in c:\\users\\hp\\anaconda3\\lib\\site-packages (from requests<3.0,>=2.20.0->googlemaps) (2020.6.20)\n",
      "Building wheels for collected packages: googlemaps\n",
      "  Building wheel for googlemaps (setup.py): started\n",
      "  Building wheel for googlemaps (setup.py): finished with status 'done'\n",
      "  Created wheel for googlemaps: filename=googlemaps-4.10.0-py3-none-any.whl size=40701 sha256=f0920fc72358c6140c1d80c49939c0c73d811068537b30c2b3f2d84604ae4f13\n",
      "  Stored in directory: c:\\users\\hp\\appdata\\local\\pip\\cache\\wheels\\18\\8a\\74\\69684f55a6b3e396f2b8e129f98b576cb02d6bebe66a0c3999\n",
      "Successfully built googlemaps\n",
      "Installing collected packages: googlemaps\n",
      "Successfully installed googlemaps-4.10.0\n"
     ]
    }
   ],
   "source": [
    "pip install googlemaps"
   ]
  },
  {
   "cell_type": "code",
   "execution_count": 5,
   "metadata": {},
   "outputs": [
    {
     "name": "stdout",
     "output_type": "stream",
     "text": [
      "Requirement already satisfied: textblob in c:\\users\\hp\\anaconda3\\lib\\site-packages (0.17.1)\n",
      "Requirement already satisfied: nltk>=3.1; python_version >= \"3\" in c:\\users\\hp\\anaconda3\\lib\\site-packages (from textblob) (3.5)\n",
      "Requirement already satisfied: click in c:\\users\\hp\\anaconda3\\lib\\site-packages (from nltk>=3.1; python_version >= \"3\"->textblob) (7.1.2)\n",
      "Requirement already satisfied: regex in c:\\users\\hp\\anaconda3\\lib\\site-packages (from nltk>=3.1; python_version >= \"3\"->textblob) (2020.6.8)\n",
      "Requirement already satisfied: tqdm in c:\\users\\hp\\anaconda3\\lib\\site-packages (from nltk>=3.1; python_version >= \"3\"->textblob) (4.47.0)\n",
      "Requirement already satisfied: joblib in c:\\users\\hp\\anaconda3\\lib\\site-packages (from nltk>=3.1; python_version >= \"3\"->textblob) (0.16.0)\n",
      "Note: you may need to restart the kernel to use updated packages.\n"
     ]
    }
   ],
   "source": [
    "pip install textblob"
   ]
  },
  {
   "cell_type": "code",
   "execution_count": 9,
   "metadata": {},
   "outputs": [
    {
     "name": "stdout",
     "output_type": "stream",
     "text": [
      "Requirement already satisfied: geocoder in c:\\users\\hp\\anaconda3\\lib\\site-packages (1.38.1)\n",
      "Requirement already satisfied: six in c:\\users\\hp\\anaconda3\\lib\\site-packages (from geocoder) (1.15.0)\n",
      "Requirement already satisfied: requests in c:\\users\\hp\\anaconda3\\lib\\site-packages (from geocoder) (2.30.0)\n",
      "Requirement already satisfied: ratelim in c:\\users\\hp\\anaconda3\\lib\\site-packages (from geocoder) (0.1.6)\n",
      "Requirement already satisfied: click in c:\\users\\hp\\anaconda3\\lib\\site-packages (from geocoder) (7.1.2)\n",
      "Requirement already satisfied: future in c:\\users\\hp\\anaconda3\\lib\\site-packages (from geocoder) (0.18.2)\n",
      "Requirement already satisfied: idna<4,>=2.5 in c:\\users\\hp\\anaconda3\\lib\\site-packages (from requests->geocoder) (2.10)\n",
      "Requirement already satisfied: urllib3<3,>=1.21.1 in c:\\users\\hp\\anaconda3\\lib\\site-packages (from requests->geocoder) (1.25.9)\n",
      "Requirement already satisfied: charset-normalizer<4,>=2 in c:\\users\\hp\\anaconda3\\lib\\site-packages (from requests->geocoder) (3.1.0)\n",
      "Requirement already satisfied: certifi>=2017.4.17 in c:\\users\\hp\\anaconda3\\lib\\site-packages (from requests->geocoder) (2020.6.20)\n",
      "Requirement already satisfied: decorator in c:\\users\\hp\\anaconda3\\lib\\site-packages (from ratelim->geocoder) (4.4.2)\n",
      "Note: you may need to restart the kernel to use updated packages.\n"
     ]
    }
   ],
   "source": [
    "pip install geocoder"
   ]
  },
  {
   "cell_type": "code",
   "execution_count": 11,
   "metadata": {},
   "outputs": [
    {
     "name": "stdout",
     "output_type": "stream",
     "text": [
      "Requirement already satisfied: google in c:\\users\\hp\\anaconda3\\lib\\site-packages (3.0.0)\n",
      "Requirement already satisfied: beautifulsoup4 in c:\\users\\hp\\anaconda3\\lib\\site-packages (from google) (4.9.1)\n",
      "Requirement already satisfied: soupsieve>1.2 in c:\\users\\hp\\anaconda3\\lib\\site-packages (from beautifulsoup4->google) (2.0.1)\n",
      "Note: you may need to restart the kernel to use updated packages.\n"
     ]
    }
   ],
   "source": [
    "pip install google"
   ]
  },
  {
   "cell_type": "code",
   "execution_count": 1,
   "metadata": {},
   "outputs": [],
   "source": [
    "import speech_recognition as sr"
   ]
  },
  {
   "cell_type": "code",
   "execution_count": 3,
   "metadata": {
    "scrolled": true
   },
   "outputs": [
    {
     "name": "stdout",
     "output_type": "stream",
     "text": [
      "listening...\n",
      "i don't like to help you\n",
      "listening...\n",
      "capture me square\n",
      "listening...\n",
      "thank you thank you sir\n"
     ]
    },
    {
     "ename": "SystemExit",
     "evalue": "",
     "output_type": "error",
     "traceback": [
      "An exception has occurred, use %tb to see the full traceback.\n",
      "\u001b[1;31mSystemExit\u001b[0m\n"
     ]
    },
    {
     "name": "stderr",
     "output_type": "stream",
     "text": [
      "C:\\Users\\hp\\anaconda3\\lib\\site-packages\\IPython\\core\\interactiveshell.py:3351: UserWarning: To exit: use 'exit', 'quit', or Ctrl-D.\n",
      "  warn(\"To exit: use 'exit', 'quit', or Ctrl-D.\", stacklevel=1)\n"
     ]
    }
   ],
   "source": [
    "import pyttsx3\n",
    "import pywhatkit as kt\n",
    "import datetime\n",
    "import wikipedia\n",
    "import pyjokes as pj\n",
    "import geocoder\n",
    "from geopy.geocoders import Nominatim\n",
    "import sys\n",
    "from googlesearch import search\n",
    "from sys import exit\n",
    "import webbrowser\n",
    "import urllib\n",
    "from textblob import TextBlob\n",
    "import time\n",
    "#from tkinter import *\n",
    "import os\n",
    "import requests\n",
    "import smtplib\n",
    "import pywhatkit\n",
    "import cv2\n",
    "#x = True\n",
    "\n",
    "listener = sr.Recognizer()\n",
    "engine = pyttsx3.init()\n",
    "voices = engine.getProperty('voices')\n",
    "engine.setProperty('voice', voices[0].id)\n",
    "\n",
    "\n",
    "def talk(text):\n",
    "    engine.say(text)\n",
    "    engine.runAndWait()\n",
    "\n",
    "\n",
    "def take_command():\n",
    "    try:\n",
    "        with sr.Microphone() as  source:\n",
    "            print('listening...')\n",
    "            voice = listener.listen(source)\n",
    "            command = listener.recognize_google(voice)\n",
    "            command = command.lower()\n",
    "            if 'sky' in command:\n",
    "                #talk(command)\n",
    "                print(command)\n",
    "                command = command.replace('sky','')\n",
    "    except:\n",
    "        talk('please repeat that again')\n",
    "        return none\n",
    "    return command\n",
    " \n",
    "def loc():\n",
    "    g = geocoder.ip('me')\n",
    "    print(g.latlng)\n",
    "    geoLoc = Nominatim(user_agent=\"GetLoc\")\n",
    "    locname = geoLoc.reverse(g.latlng)\n",
    "    return locname.address\n",
    "\n",
    "# def sendEmail(to, content):\n",
    "    server = smtplib.SMTP('smtp.gmail.com', 587)\n",
    "    server.ehlo()\n",
    "    server.starttls()\n",
    "     \n",
    "    # Enable low security in gmail\n",
    "    server.login('kanak040801@gmail.com', 'Kanak1311842040801')\n",
    "    server.sendmail('kanak040801@gmail.com', to, content)\n",
    "    server.close()\n",
    "\n",
    "# def news():\n",
    "#     main_url = 'https://newsapi.org/v2/top-headlines?sources=techcrunch&apiKey=7b3d4ca5ae3a4ccd9fbf39853c15c690'\n",
    "\n",
    "#     main_page = requests.get(main_url).json()\n",
    "#     articles = main_page[\"articles\"]\n",
    "#     head = []\n",
    "#     day = [\"first\", \"second\", \"Third\", \"Fourth\", \"Fifth\"]\n",
    "#     for ar in articles:\n",
    "#         head.append(ar[\"title\"])\n",
    "#     for i in range(len(day)):\n",
    "#         speak(f\"today's {day[i]} news is: {head[i]}\")\n",
    "\n",
    "\n",
    "def Gen_report(C):\n",
    "    url = 'https://wttr.in/{}'.format(C)\n",
    "    try:\n",
    "        data = requests.get(url)\n",
    "        T = data.text\n",
    "    except:\n",
    "        T = \"Error Occurred\"\n",
    "    print(T)\n",
    "\n",
    "def wish():\n",
    "    hour = int(datetime.datetime.now().hour)\n",
    "\n",
    "    if hour >= 0 and hour <= 12:\n",
    "        talk(\"Good Morning\")\n",
    "    elif hour > 12 and hour < 18:\n",
    "        talk(\"Good Afternoon\")\n",
    "    else:\n",
    "        talk(\"Good Evening\")\n",
    "    talk(\"I am sky , please tell me how can i help you\")\n",
    "\n",
    "def run_sky():\n",
    "    wish()\n",
    "    command = take_command()\n",
    "    print(command)\n",
    "    if 'play' in command:\n",
    "        content = command.replace('play','')\n",
    "        talk('playing' + content) #to play songs on youtube\n",
    "        py.playonyt(content)\n",
    "        \n",
    "    elif 'current time' in command:\n",
    "        curr_time = datetime.datetime.now().strftime('%H:%M %p') #time in python\n",
    "        print(time)\n",
    "        talk('current time is' + time)\n",
    "    \n",
    "    elif 'your name' in command:\n",
    "        talk(\"My name is Sky\")\n",
    "        talk('what is your name')\n",
    "    \n",
    "    elif 'my name is' in command:\n",
    "        with sr.Microphone() as  source:\n",
    "            voice1 = listener.listen(source)\n",
    "            name = listener.recognize_google(voice1)\n",
    "        talk('hi' + name + \"Nice to meet you\")\n",
    "    \n",
    "    elif 'date' in command:\n",
    "        today = datetime.date.today()#date in python\n",
    "        print(today)\n",
    "        talk('Today date is' + today)\n",
    "        \n",
    "    elif 'look up' in command:\n",
    "        person = command.replace('look up','')\n",
    "        info = wikipedia.summary(person, 2) #for wikipedia search in python we import wikipedia and then use wikipedia.summary for output\n",
    "        print(info)\n",
    "        talk(info)\n",
    "        \n",
    "    elif 'joke' in command:\n",
    "        print(pj.get_joke())\n",
    "        talk(pj.get_joke())  #use pyjokes for jokes in python\n",
    "        \n",
    "    elif 'in a relationship' in command:\n",
    "        talk('I am in a relationship with wifi')\n",
    "    \n",
    "    elif 'how are you' in command:\n",
    "        talk('I am fine, What about you?')\n",
    "    \n",
    "    elif 'i am fine' in command:\n",
    "        talk('that is good')\n",
    "        \n",
    "    elif 'Will you go on a date with me' in command:\n",
    "        talk('Sorry, I have a headache.')\n",
    "        \n",
    "    elif 'my location' in command or 'where am i' in command or 'where are we' in command or' what is my location' in command:\n",
    "        print(loc())  # we have imported geocoder and from geopy.geocoders import Nominatim for finding current location of the system.\n",
    "        talk(loc())\n",
    "        \n",
    "    elif 'open device movies' in command:\n",
    "        talk('opening device movies')\n",
    "        tpath = \"E:\\\\movies\"\n",
    "        os.startfile(tpath)\n",
    "    \n",
    "    elif 'google' in command:\n",
    "        query = command.replace('google','')\n",
    "        for j in search(query, tld=\"co.in\", num=1, stop=2, pause=2):\n",
    "            webbrowser.open(j) \n",
    "    \n",
    "    elif 'youtube' in command:\n",
    "        webbrowser.open('https://www.youtube.com/')\n",
    "        \n",
    "    elif 'open browser' in command:\n",
    "        webbrowser.open('https://www.google.com')\n",
    "    \n",
    "    elif 'how to spell' in command:\n",
    "        talk('write the word')                #spelling a word\n",
    "        a = input('Write the word:')\n",
    "        talk(TextBlob(a))\n",
    "    \n",
    "    elif 'set clock timer' in command:\n",
    "        h = input(\"Enter the time in hours: \")\n",
    "        m = input(\"Enter the time in minutes: \")\n",
    "        s = input(\"Enter the time in seconds: \")\n",
    "        \n",
    "        ts = h * 3600 + m * 60 + s\n",
    "        ts = int(ts)\n",
    "        while ts > 0:\n",
    "            timer = datetime.timedelta(seconds = ts)\n",
    "            print(timer, end=\"\\r\")\n",
    "            time.sleep(1)\n",
    "            talk(ts)\n",
    "            ts -= 1\n",
    "        talk('countdown is over')\n",
    "        print(\"\")\n",
    "    \n",
    "    elif 'stopwatch' in command:\n",
    "        print(\"Press ENTER to start the stopwatch\")\n",
    "        print(\"and, press CTRL + C to stop the stopwatch\")\n",
    "        while True:\n",
    "            try:\n",
    "                input() #For ENTER\n",
    "                start_time = time.time()\n",
    "                print(\"Stopwatch started...\")\n",
    "            except KeyboardInt:\n",
    "                print(\"Stopwatch stopped...\")\n",
    "                end_time = time.time()\n",
    "                print(\"The total time:\", round(end_time - start_time, 2),\"seconds\")\n",
    "                break \n",
    "           \n",
    "    elif 'open editor' in command:\n",
    "        os.system(\"Notepad\")\n",
    "    \n",
    "    elif \"news\" in command:\n",
    "        talk(\"please wait, fetching the latest news\")\n",
    "    \n",
    "    elif 'open whatsapp'in command:\n",
    "        webbrowser.open('https://web.whatsapp.com/')\n",
    "    \n",
    "    elif 'today weather' in command:\n",
    "        print(\"\\t\\tWelcome to the Weather Forecaster!\\n\\n\")\n",
    "        print(\"Just Enter the City you want the weather report for and click on the button! It's that simple!\\n\\n\")\n",
    "        talk('Enter the name of the city')\n",
    "        city_name = input(\"Enter the name of the City : \")\n",
    "        print(\"\\n\\n\")\n",
    "        \n",
    "        def Gen_report(C):\n",
    "            url = 'https://wttr.in/{}'.format(C)\n",
    "            try:\n",
    "                data = requests.get(url)\n",
    "                T = data.text\n",
    "            except:\n",
    "                T = \"Error Occurred\"\n",
    "            print(T)\n",
    "        \n",
    "        Gen_report(city_name)\n",
    "        \n",
    "    elif 'open spotify' in command:\n",
    "        talk('Spotify')\n",
    "        webbrowser.open('https://www.spotify.com')\n",
    "        \n",
    "    elif 'send an email' in command:\n",
    "        try:\n",
    "                talk(\"What should I say?\")\n",
    "                content = takeCommand()\n",
    "                to = \"Receiver email address\"   \n",
    "                sendEmail(to, content)\n",
    "                talk(\"Email has been sent\")\n",
    "        except Exception as e:\n",
    "            print(e)\n",
    "            talk(\"I am not able to send this email\")\n",
    "    \n",
    "    elif 'automate whatsapp message' in command:\n",
    "        talk('Please enter the number')\n",
    "        print(\"Please enter the number:\")\n",
    "        country_code = \"+91\"\n",
    "        number = country_code + input()\n",
    "        talk('please enter the message')\n",
    "        print(\"please enter the message:\")\n",
    "        message = input()\n",
    "        pywhatkit.sendwhatmsg_instantly(number, message,10)\n",
    "    \n",
    "    elif \"open google maps\" in command:\n",
    "        #command = command.replace(\"where is\", \"\")\n",
    "        #location = command\n",
    "        talk(\"User asked to open maps\")\n",
    "        #talk(location)\n",
    "        webbrowser.open(\"https://www.google.com/maps/search/?api=1&\" + location + \"\")\n",
    "        \n",
    "    elif \"Ip address\" in command:\n",
    "        ip = get(\"\")\n",
    "        \n",
    "    elif \"read a poem\" in command:\n",
    "        talk(\"okay here is your poem:\")\n",
    "        webbrowser.open(\"https://lithub.com/the-32-most-iconic-poems-in-the-english-language/\")\n",
    "        \n",
    "    elif 'capture me' in command or 'open camera' in command:\n",
    "        cam = cv2.VideoCapture(0)\n",
    "        while True:\n",
    "            ret, frame = cam.read()\n",
    "            cv2.imshow('frame', frame)\n",
    "            if cv2.waitKey(1) & 0xFF == ord('q'):\n",
    "                break\n",
    "        cam.release()\n",
    "        cv2.destroyAllWindows()\n",
    "    \n",
    "        \n",
    "    elif 'thank you' in command:\n",
    "        talk('thanks for using me, have a good day!')\n",
    "        sys.exit()\n",
    "    \n",
    "    elif 'exit' in command:\n",
    "        talk('It was nice talking to you')\n",
    "        sys.exit()\n",
    "        \n",
    "\n",
    "    else:\n",
    "        talk('Please say the command again.')\n",
    "        \n",
    "while True:\n",
    "        run_sky()\n",
    "\n"
   ]
  },
  {
   "cell_type": "code",
   "execution_count": null,
   "metadata": {},
   "outputs": [],
   "source": []
  },
  {
   "cell_type": "code",
   "execution_count": null,
   "metadata": {},
   "outputs": [],
   "source": []
  }
 ],
 "metadata": {
  "kernelspec": {
   "display_name": "Python 3",
   "language": "python",
   "name": "python3"
  },
  "language_info": {
   "codemirror_mode": {
    "name": "ipython",
    "version": 3
   },
   "file_extension": ".py",
   "mimetype": "text/x-python",
   "name": "python",
   "nbconvert_exporter": "python",
   "pygments_lexer": "ipython3",
   "version": "3.8.3"
  }
 },
 "nbformat": 4,
 "nbformat_minor": 4
}
